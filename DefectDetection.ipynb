{
 "cells": [
  {
   "cell_type": "code",
   "execution_count": 3,
   "metadata": {},
   "outputs": [],
   "source": [
    "import cv2\n",
    "import imutils\n",
    "from skimage.metrics import structural_similarity as compare_ssim"
   ]
  },
  {
   "cell_type": "code",
   "execution_count": 4,
   "metadata": {},
   "outputs": [
    {
     "name": "stdout",
     "output_type": "stream",
     "text": [
      "Defect Detected\n"
     ]
    }
   ],
   "source": [
    "def load_and_resize_image(path, scale_factor=0.5):\n",
    "    image = cv2.imread(path)\n",
    "    return cv2.resize(image, None, fx=scale_factor, fy=scale_factor)\n",
    "\n",
    "def convert_to_grayscale(image):\n",
    "    return cv2.cvtColor(image, cv2.COLOR_BGR2GRAY)\n",
    "\n",
    "def compare_images(image1, image2):\n",
    "    (score, diff) = compare_ssim(image1, image2, win_size=3, full=True)\n",
    "    diff = (diff * 255).astype(\"uint8\")\n",
    "    return score, diff\n",
    "\n",
    "def threshold_difference(diff_image):\n",
    "    return cv2.threshold(diff_image, 0, 255, cv2.THRESH_BINARY_INV | cv2.THRESH_OTSU)[1]\n",
    "\n",
    "def find_contours(thresholded_image):\n",
    "    return imutils.grab_contours(cv2.findContours(thresholded_image.copy(), cv2.RETR_EXTERNAL, cv2.CHAIN_APPROX_SIMPLE))\n",
    "\n",
    "def draw_bounding_boxes(image, contours):\n",
    "    for c in contours:\n",
    "        (x, y, w, h) = cv2.boundingRect(c)\n",
    "        cv2.rectangle(image, (x, y), (x + w, y + h), (0, 0, 255), 2)\n",
    "\n",
    "def main():\n",
    "    # Load and resize images\n",
    "    image1 = load_and_resize_image('D:\\Projects\\Dhvani\\good.png')\n",
    "    image2 = load_and_resize_image('D:\\Projects\\Dhvani\\defect1.png')\n",
    "\n",
    "    # Convert images to grayscale\n",
    "    gray1 = convert_to_grayscale(image1)\n",
    "    gray2 = convert_to_grayscale(image2)\n",
    "\n",
    "    # Compare images\n",
    "    score, diff = compare_images(gray1, gray2)\n",
    "    if score != 1:\n",
    "        print(\"Defect Detected\")\n",
    "    else:\n",
    "        print(\"No Defect\")\n",
    "\n",
    "    # Threshold difference\n",
    "    thresh_diff = threshold_difference(diff)\n",
    "\n",
    "    # Find contours\n",
    "    contours = find_contours(thresh_diff)\n",
    "\n",
    "    # Draw bounding boxes\n",
    "    draw_bounding_boxes(image2, contours)\n",
    "\n",
    "    # Show the output image\n",
    "    cv2.imshow(\"Defect\", image2)\n",
    "    cv2.waitKey(0)\n",
    "    cv2.destroyAllWindows()\n",
    "\n",
    "if __name__ == \"__main__\":\n",
    "    main()"
   ]
  }
 ],
 "metadata": {
  "kernelspec": {
   "display_name": "Python 3",
   "language": "python",
   "name": "python3"
  },
  "language_info": {
   "codemirror_mode": {
    "name": "ipython",
    "version": 3
   },
   "file_extension": ".py",
   "mimetype": "text/x-python",
   "name": "python",
   "nbconvert_exporter": "python",
   "pygments_lexer": "ipython3",
   "version": "3.10.0"
  },
  "orig_nbformat": 4
 },
 "nbformat": 4,
 "nbformat_minor": 2
}
